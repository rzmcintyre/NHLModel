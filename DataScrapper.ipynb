{
 "cells": [
  {
   "cell_type": "code",
   "execution_count": 1,
   "id": "3ad07043-5b6b-42b6-beb1-435c2306aba9",
   "metadata": {
    "tags": []
   },
   "outputs": [],
   "source": [
    "import pandas as pd\n",
    "import datetime\n",
    "from random import randint\n",
    "from time import sleep\n",
    "import os\n",
    "import numpy as np"
   ]
  },
  {
   "cell_type": "code",
   "execution_count": null,
   "id": "5364851d-b935-4563-94f1-f05a0c113953",
   "metadata": {},
   "outputs": [],
   "source": []
  },
  {
   "cell_type": "code",
   "execution_count": 8,
   "id": "8b56356d-156c-4211-8642-95aaa6a23283",
   "metadata": {
    "tags": []
   },
   "outputs": [],
   "source": [
    "url = 'https://www.hockey-reference.com/leagues/NHL_2024_games.html'\n",
    "dfs = pd.read_html(url)\n",
    "df = dfs[0]\n",
    "dates = pd.to_datetime(df['Date'], format = '%Y-%m-%d').dt.date\n",
    "dates = pd.Series(dates).drop_duplicates().tolist()"
   ]
  },
  {
   "cell_type": "code",
   "execution_count": 9,
   "id": "d6057ac4-f4d6-4e0e-bd5c-f76603b8a592",
   "metadata": {
    "tags": []
   },
   "outputs": [
    {
     "name": "stdout",
     "output_type": "stream",
     "text": [
      "[datetime.date(2023, 10, 10), datetime.date(2023, 10, 11), datetime.date(2023, 10, 12), datetime.date(2023, 10, 13), datetime.date(2023, 10, 14), datetime.date(2023, 10, 15), datetime.date(2023, 10, 16), datetime.date(2023, 10, 17), datetime.date(2023, 10, 18), datetime.date(2023, 10, 19), datetime.date(2023, 10, 20), datetime.date(2023, 10, 21), datetime.date(2023, 10, 22), datetime.date(2023, 10, 23), datetime.date(2023, 10, 24), datetime.date(2023, 10, 25), datetime.date(2023, 10, 26), datetime.date(2023, 10, 27), datetime.date(2023, 10, 28), datetime.date(2023, 10, 29), datetime.date(2023, 10, 30), datetime.date(2023, 10, 31), datetime.date(2023, 11, 1), datetime.date(2023, 11, 2), datetime.date(2023, 11, 3), datetime.date(2023, 11, 4), datetime.date(2023, 11, 5), datetime.date(2023, 11, 6), datetime.date(2023, 11, 7), datetime.date(2023, 11, 8), datetime.date(2023, 11, 9), datetime.date(2023, 11, 10), datetime.date(2023, 11, 11), datetime.date(2023, 11, 12), datetime.date(2023, 11, 13), datetime.date(2023, 11, 14), datetime.date(2023, 11, 15), datetime.date(2023, 11, 16), datetime.date(2023, 11, 17), datetime.date(2023, 11, 18), datetime.date(2023, 11, 19), datetime.date(2023, 11, 20), datetime.date(2023, 11, 22), datetime.date(2023, 11, 24), datetime.date(2023, 11, 25), datetime.date(2023, 11, 26), datetime.date(2023, 11, 27), datetime.date(2023, 11, 28), datetime.date(2023, 11, 29), datetime.date(2023, 11, 30), datetime.date(2023, 12, 1), datetime.date(2023, 12, 2), datetime.date(2023, 12, 3), datetime.date(2023, 12, 4), datetime.date(2023, 12, 5), datetime.date(2023, 12, 6), datetime.date(2023, 12, 7), datetime.date(2023, 12, 8), datetime.date(2023, 12, 9), datetime.date(2023, 12, 10), datetime.date(2023, 12, 11), datetime.date(2023, 12, 12), datetime.date(2023, 12, 13), datetime.date(2023, 12, 14), datetime.date(2023, 12, 15), datetime.date(2023, 12, 16), datetime.date(2023, 12, 17), datetime.date(2023, 12, 18), datetime.date(2023, 12, 19), datetime.date(2023, 12, 20), datetime.date(2023, 12, 21), datetime.date(2023, 12, 22), datetime.date(2023, 12, 23), datetime.date(2023, 12, 27), datetime.date(2023, 12, 28), datetime.date(2023, 12, 29), datetime.date(2023, 12, 30), datetime.date(2023, 12, 31), datetime.date(2024, 1, 1), datetime.date(2024, 1, 2), datetime.date(2024, 1, 3), datetime.date(2024, 1, 4), datetime.date(2024, 1, 5), datetime.date(2024, 1, 6), datetime.date(2024, 1, 7), datetime.date(2024, 1, 8), datetime.date(2024, 1, 9), datetime.date(2024, 1, 10), datetime.date(2024, 1, 11), datetime.date(2024, 1, 12), datetime.date(2024, 1, 13), datetime.date(2024, 1, 14), datetime.date(2024, 1, 15), datetime.date(2024, 1, 16), datetime.date(2024, 1, 17), datetime.date(2024, 1, 18), datetime.date(2024, 1, 19), datetime.date(2024, 1, 20), datetime.date(2024, 1, 21), datetime.date(2024, 1, 22), datetime.date(2024, 1, 23), datetime.date(2024, 1, 24), datetime.date(2024, 1, 25), datetime.date(2024, 1, 26), datetime.date(2024, 1, 27), datetime.date(2024, 1, 28), datetime.date(2024, 1, 29), datetime.date(2024, 1, 30), datetime.date(2024, 1, 31), datetime.date(2024, 2, 5), datetime.date(2024, 2, 6), datetime.date(2024, 2, 7), datetime.date(2024, 2, 8), datetime.date(2024, 2, 9), datetime.date(2024, 2, 10), datetime.date(2024, 2, 11), datetime.date(2024, 2, 12), datetime.date(2024, 2, 13), datetime.date(2024, 2, 14), datetime.date(2024, 2, 15), datetime.date(2024, 2, 16), datetime.date(2024, 2, 17), datetime.date(2024, 2, 18), datetime.date(2024, 2, 19), datetime.date(2024, 2, 20), datetime.date(2024, 2, 21), datetime.date(2024, 2, 22), datetime.date(2024, 2, 23), datetime.date(2024, 2, 24), datetime.date(2024, 2, 25), datetime.date(2024, 2, 26), datetime.date(2024, 2, 27), datetime.date(2024, 2, 28), datetime.date(2024, 2, 29), datetime.date(2024, 3, 1), datetime.date(2024, 3, 2), datetime.date(2024, 3, 3), datetime.date(2024, 3, 4), datetime.date(2024, 3, 5), datetime.date(2024, 3, 6), datetime.date(2024, 3, 7), datetime.date(2024, 3, 8), datetime.date(2024, 3, 9), datetime.date(2024, 3, 10), datetime.date(2024, 3, 11), datetime.date(2024, 3, 12), datetime.date(2024, 3, 13), datetime.date(2024, 3, 14), datetime.date(2024, 3, 15), datetime.date(2024, 3, 16), datetime.date(2024, 3, 17), datetime.date(2024, 3, 18), datetime.date(2024, 3, 19), datetime.date(2024, 3, 20), datetime.date(2024, 3, 21), datetime.date(2024, 3, 22), datetime.date(2024, 3, 23), datetime.date(2024, 3, 24), datetime.date(2024, 3, 25), datetime.date(2024, 3, 26), datetime.date(2024, 3, 27), datetime.date(2024, 3, 28), datetime.date(2024, 3, 29), datetime.date(2024, 3, 30), datetime.date(2024, 3, 31), datetime.date(2024, 4, 1), datetime.date(2024, 4, 2), datetime.date(2024, 4, 3), datetime.date(2024, 4, 4), datetime.date(2024, 4, 5), datetime.date(2024, 4, 6), datetime.date(2024, 4, 7), datetime.date(2024, 4, 8), datetime.date(2024, 4, 9), datetime.date(2024, 4, 10), datetime.date(2024, 4, 11), datetime.date(2024, 4, 12), datetime.date(2024, 4, 13), datetime.date(2024, 4, 14), datetime.date(2024, 4, 15), datetime.date(2024, 4, 16), datetime.date(2024, 4, 17), datetime.date(2024, 4, 18)]\n"
     ]
    }
   ],
   "source": [
    "print(dates)"
   ]
  },
  {
   "cell_type": "code",
   "execution_count": 10,
   "id": "7463154f-8c86-461e-b132-f76b7061bccd",
   "metadata": {
    "tags": []
   },
   "outputs": [
    {
     "name": "stdout",
     "output_type": "stream",
     "text": [
      "complete\n"
     ]
    }
   ],
   "source": [
    "nhl_url = ''\n",
    "end_date = dates[-1]\n",
    "output_path = 'scraperdata-2324.csv'\n",
    "\n",
    "for date in (dates):\n",
    "  # populate nhl url with dynamic date\n",
    "  nhl_url = f'https://www.naturalstattrick.com/teamtable.php?fromseason=20232024&thruseason=20232024&stype=2&sit=ev&score=all&rate=y&team=all&loc=B&gpf=410&fd={date}&td={date}'\n",
    "  # if the date is earlier or equal or equal to end_date, proceed.\n",
    "  if (date<= end_date):\n",
    "    nhl_dfs = pd.read_html(nhl_url, index_col = 0)\n",
    "    nhl_df = nhl_dfs[0]\n",
    "    # add a date column based on the current game data\n",
    "    nhl_df['Date'] = date\n",
    "    nhl_df.to_csv(output_path, mode = 'a', header = not os.path.exists(output_path), index = False) # no mode is write mode. mode a is append mode\n",
    "    sleep(randint(10,25))\n",
    "print(\"complete\")"
   ]
  },
  {
   "cell_type": "code",
   "execution_count": 28,
   "id": "a946f6cb-f42e-4185-8eeb-0fddb3a1c4be",
   "metadata": {
    "tags": []
   },
   "outputs": [
    {
     "name": "stdout",
     "output_type": "stream",
     "text": [
      "[                     Team  GP TOI/GP   W   L  OTL  ROW  Points  Point %  \\\n",
      "1           Anaheim Ducks  82  51:50  31  37   14   27      76    0.463   \n",
      "2         Arizona Coyotes  82  51:13  25  50    7   24      57    0.348   \n",
      "3           Boston Bruins  82  50:18  51  26    5   49     107    0.652   \n",
      "4          Buffalo Sabres  82  51:38  32  39   11   29      75    0.457   \n",
      "5     Carolina Hurricanes  82  50:13  54  20    8   53     116    0.707   \n",
      "6   Columbus Blue Jackets  82  51:05  37  38    7   33      81    0.494   \n",
      "7          Calgary Flames  82  50:28  50  21   11   48     111    0.677   \n",
      "8      Chicago Blackhawks  82  51:14  28  42   12   22      68    0.415   \n",
      "9      Colorado Avalanche  82  50:14  56  19    7   52     119    0.726   \n",
      "10           Dallas Stars  82  51:39  46  30    6   41      98    0.598   \n",
      "11      Detroit Red Wings  82  51:21  32  40   10   29      74    0.451   \n",
      "12        Edmonton Oilers  82  50:57  49  27    6   44     104    0.634   \n",
      "13       Florida Panthers  82  50:26  58  18    6   55     122    0.744   \n",
      "14      Los Angeles Kings  82  50:57  44  27   11   40      99    0.604   \n",
      "15         Minnesota Wild  82  50:19  53  22    7   48     113    0.689   \n",
      "16     Montreal Canadiens  82  50:08  22  49   11   19      55    0.335   \n",
      "17      New Jersey Devils  82  51:49  27  46    9   24      63    0.384   \n",
      "18    Nashville Predators  82  50:04  45  30    7   41      97    0.591   \n",
      "19     New York Islanders  82  51:48  37  35   10   35      84    0.512   \n",
      "20       New York Rangers  82  51:45  52  24    6   48     110    0.671   \n",
      "21        Ottawa Senators  82  50:40  33  42    7   30      73    0.445   \n",
      "22    Philadelphia Flyers  82  50:44  25  46   11   24      61    0.372   \n",
      "23    Pittsburgh Penguins  82  51:38  46  25   11   43     103    0.628   \n",
      "24        San Jose Sharks  82  51:20  32  37   13   29      77    0.470   \n",
      "25         Seattle Kraken  82  51:05  27  49    6   24      60    0.366   \n",
      "26         St Louis Blues  82  51:14  49  22   11   47     109    0.665   \n",
      "27    Tampa Bay Lightning  81  50:23  50  23    8   48     108    0.667   \n",
      "28    Toronto Maple Leafs  81  51:28  54  20    7   51     115    0.710   \n",
      "29      Vancouver Canucks  82  51:13  40  30   12   37      92    0.561   \n",
      "30   Vegas Golden Knights  82  52:07  43  31    8   39      94    0.573   \n",
      "31          Winnipeg Jets  82  51:00  39  32   11   37      89    0.543   \n",
      "32    Washington Capitals  82  51:05  44  26   12   39     100    0.610   \n",
      "\n",
      "    CF/60  ...  LDSF%  LDGF/60  LDGA/60  LDGF%  LDSH%  LDSV%    SH%    SV%  \\\n",
      "1   52.84  ...  46.88     0.40     0.62  38.89   3.49  95.16   8.42  90.29   \n",
      "2   48.16  ...  42.36     0.36     0.59  37.88   3.42  95.88   9.68  89.93   \n",
      "3   59.43  ...  55.70     0.47     0.38  55.17   2.95  96.99   7.85  91.35   \n",
      "4   50.90  ...  48.55     0.40     0.45  46.67   3.04  96.72   8.55  89.90   \n",
      "5   63.30  ...  57.24     0.42     0.29  59.18   2.77  97.45   9.54  91.63   \n",
      "6   54.73  ...  46.41     0.49     0.63  43.59   3.98  95.54  10.26  90.24   \n",
      "7   63.41  ...  54.04     0.54     0.19  74.00   3.84  98.41   9.58  91.86   \n",
      "8   50.65  ...  45.35     0.30     0.46  39.62   2.58  96.74   8.47  89.85   \n",
      "9   61.79  ...  50.21     0.60     0.45  56.94   4.24  96.77  10.03  91.81   \n",
      "10  55.03  ...  46.47     0.27     0.50  35.19   2.46  96.06   8.38  91.12   \n",
      "11  50.47  ...  46.79     0.43     0.53  44.78   3.61  96.08   9.15  89.71   \n",
      "12  59.53  ...  52.87     0.42     0.53  43.94   2.94  95.79   9.35  91.12   \n",
      "13  66.52  ...  56.05     0.54     0.42  56.06   3.90  96.10  10.03  91.01   \n",
      "14  60.61  ...  58.45     0.40     0.27  59.57   2.73  97.39   7.81  91.14   \n",
      "15  57.30  ...  49.37     0.61     0.48  56.00   4.67  96.42  11.22  91.20   \n",
      "16  52.71  ...  49.83     0.44     0.42  50.85   3.41  96.73   8.69  89.80   \n",
      "17  57.66  ...  49.37     0.35     0.65  35.21   2.78  95.01   9.07  88.81   \n",
      "18  54.55  ...  48.32     0.35     0.44  44.44   2.92  96.59   9.79  91.23   \n",
      "19  50.95  ...  46.20     0.44     0.37  54.39   3.99  97.13   8.88  91.68   \n",
      "20  50.26  ...  49.01     0.38     0.31  55.10   3.29  97.42   9.43  92.31   \n",
      "21  54.04  ...  49.12     0.46     0.38  55.17   3.71  97.09   8.31  90.53   \n",
      "22  53.87  ...  48.28     0.43     0.50  46.15   3.39  96.30   8.30  90.24   \n",
      "23  58.44  ...  51.14     0.35     0.33  52.08   2.65  97.44   9.03  91.74   \n",
      "24  52.01  ...  46.34     0.46     0.41  52.46   3.98  96.89   8.37  90.22   \n",
      "25  53.61  ...  50.73     0.47     0.42  53.23   3.82  96.54   8.72  88.85   \n",
      "26  50.74  ...  45.09     0.51     0.47  52.17   5.03  96.22  11.51  91.08   \n",
      "27  55.54  ...  49.68     0.43     0.35  54.72   3.68  96.99  10.50  91.35   \n",
      "28  61.50  ...  49.79     0.39     0.36  51.92   3.19  97.07  10.04  90.31   \n",
      "29  56.89  ...  51.99     0.41     0.33  55.77   3.17  97.28   8.39  92.29   \n",
      "30  61.68  ...  55.57     0.52     0.45  53.62   3.69  96.01   8.76  90.88   \n",
      "31  56.35  ...  49.35     0.34     0.42  45.28   2.76  96.76   8.69  91.63   \n",
      "32  55.84  ...  51.74     0.47     0.43  52.38   3.77  96.33  10.05  90.58   \n",
      "\n",
      "      PDO        Date  \n",
      "1   0.987  2023-04-14  \n",
      "2   0.996  2023-04-14  \n",
      "3   0.992  2023-04-14  \n",
      "4   0.985  2023-04-14  \n",
      "5   1.012  2023-04-14  \n",
      "6   1.005  2023-04-14  \n",
      "7   1.014  2023-04-14  \n",
      "8   0.983  2023-04-14  \n",
      "9   1.018  2023-04-14  \n",
      "10  0.995  2023-04-14  \n",
      "11  0.989  2023-04-14  \n",
      "12  1.005  2023-04-14  \n",
      "13  1.010  2023-04-14  \n",
      "14  0.989  2023-04-14  \n",
      "15  1.024  2023-04-14  \n",
      "16  0.985  2023-04-14  \n",
      "17  0.979  2023-04-14  \n",
      "18  1.010  2023-04-14  \n",
      "19  1.006  2023-04-14  \n",
      "20  1.017  2023-04-14  \n",
      "21  0.988  2023-04-14  \n",
      "22  0.985  2023-04-14  \n",
      "23  1.008  2023-04-14  \n",
      "24  0.986  2023-04-14  \n",
      "25  0.976  2023-04-14  \n",
      "26  1.026  2023-04-14  \n",
      "27  1.018  2023-04-14  \n",
      "28  1.003  2023-04-14  \n",
      "29  1.007  2023-04-14  \n",
      "30  0.996  2023-04-14  \n",
      "31  1.003  2023-04-14  \n",
      "32  1.006  2023-04-14  \n",
      "\n",
      "[32 rows x 72 columns]]\n"
     ]
    }
   ],
   "source": [
    "print(nhl_dfs)"
   ]
  },
  {
   "cell_type": "code",
   "execution_count": 29,
   "id": "49a7b3de-b841-466f-8722-eb813f979b39",
   "metadata": {
    "tags": []
   },
   "outputs": [
    {
     "data": {
      "text/plain": [
       "1"
      ]
     },
     "execution_count": 29,
     "metadata": {},
     "output_type": "execute_result"
    }
   ],
   "source": [
    "len(nhl_dfs)"
   ]
  },
  {
   "cell_type": "code",
   "execution_count": null,
   "id": "61f51542-85d7-4974-853a-b4f8ba5d9a2b",
   "metadata": {},
   "outputs": [],
   "source": []
  }
 ],
 "metadata": {
  "kernelspec": {
   "display_name": "Python 3 (ipykernel)",
   "language": "python",
   "name": "python3"
  },
  "language_info": {
   "codemirror_mode": {
    "name": "ipython",
    "version": 3
   },
   "file_extension": ".py",
   "mimetype": "text/x-python",
   "name": "python",
   "nbconvert_exporter": "python",
   "pygments_lexer": "ipython3",
   "version": "3.9.18"
  }
 },
 "nbformat": 4,
 "nbformat_minor": 5
}
